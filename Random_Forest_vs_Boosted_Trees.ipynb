{
  "nbformat": 4,
  "nbformat_minor": 0,
  "metadata": {
    "colab": {
      "provenance": [],
      "collapsed_sections": [
        "WksR8aKaS_ys",
        "_ZfQSTwrdM4p"
      ]
    },
    "kernelspec": {
      "name": "python3",
      "display_name": "Python 3"
    },
    "language_info": {
      "name": "python"
    }
  },
  "cells": [
    {
      "cell_type": "markdown",
      "source": [
        "# Q-4, SMAI Assignment-4  (Random Forest vs Boosted Trees)   \n",
        "In this section, we shall compare the results of Random Forests (a Bagging\n",
        "technique) with multiple Boosting Techniques over the tasks of classification\n",
        "and regression specified above."
      ],
      "metadata": {
        "id": "6uKo7oKTcXtQ"
      }
    },
    {
      "cell_type": "code",
      "execution_count": 71,
      "metadata": {
        "id": "j7fAixJKb33-"
      },
      "outputs": [],
      "source": [
        "import numpy as np\n",
        "import pandas as pd\n",
        "import matplotlib.pyplot as plt\n",
        "from sklearn.model_selection import train_test_split\n",
        "from sklearn import preprocessing\n",
        "from sklearn import tree\n",
        "from sklearn.metrics import accuracy_score, f1_score, confusion_matrix, precision_score, recall_score, classification_report\n",
        "from itertools import product\n",
        "from sklearn.metrics import mean_squared_error\n",
        "from itertools import product\n",
        "import time"
      ]
    },
    {
      "cell_type": "code",
      "source": [
        "from google.colab import drive\n",
        "drive.mount('/content/drive')"
      ],
      "metadata": {
        "colab": {
          "base_uri": "https://localhost:8080/"
        },
        "id": "R-OEhLgGTTtU",
        "outputId": "b20d7815-87a0-42e6-c462-1eb7c2ebfcb3"
      },
      "execution_count": 2,
      "outputs": [
        {
          "output_type": "stream",
          "name": "stdout",
          "text": [
            "Drive already mounted at /content/drive; to attempt to forcibly remount, call drive.mount(\"/content/drive\", force_remount=True).\n"
          ]
        }
      ]
    },
    {
      "cell_type": "markdown",
      "metadata": {
        "id": "WksR8aKaS_ys"
      },
      "source": [
        "### wine dataset preprocessing"
      ]
    },
    {
      "cell_type": "code",
      "execution_count": 3,
      "metadata": {
        "colab": {
          "base_uri": "https://localhost:8080/",
          "height": 441
        },
        "id": "ZHXpztFcS_ys",
        "outputId": "0a67863c-28a8-4134-c850-23a87ef0c7fb"
      },
      "outputs": [
        {
          "output_type": "execute_result",
          "data": {
            "text/plain": [
              "      fixed acidity  volatile acidity  citric acid  residual sugar  chlorides  \\\n",
              "0               7.4             0.700         0.00             1.9      0.076   \n",
              "1               7.8             0.880         0.00             2.6      0.098   \n",
              "2               7.8             0.760         0.04             2.3      0.092   \n",
              "3              11.2             0.280         0.56             1.9      0.075   \n",
              "4               7.4             0.700         0.00             1.9      0.076   \n",
              "...             ...               ...          ...             ...        ...   \n",
              "1138            6.3             0.510         0.13             2.3      0.076   \n",
              "1139            6.8             0.620         0.08             1.9      0.068   \n",
              "1140            6.2             0.600         0.08             2.0      0.090   \n",
              "1141            5.9             0.550         0.10             2.2      0.062   \n",
              "1142            5.9             0.645         0.12             2.0      0.075   \n",
              "\n",
              "      free sulfur dioxide  total sulfur dioxide  density    pH  sulphates  \\\n",
              "0                    11.0                  34.0  0.99780  3.51       0.56   \n",
              "1                    25.0                  67.0  0.99680  3.20       0.68   \n",
              "2                    15.0                  54.0  0.99700  3.26       0.65   \n",
              "3                    17.0                  60.0  0.99800  3.16       0.58   \n",
              "4                    11.0                  34.0  0.99780  3.51       0.56   \n",
              "...                   ...                   ...      ...   ...        ...   \n",
              "1138                 29.0                  40.0  0.99574  3.42       0.75   \n",
              "1139                 28.0                  38.0  0.99651  3.42       0.82   \n",
              "1140                 32.0                  44.0  0.99490  3.45       0.58   \n",
              "1141                 39.0                  51.0  0.99512  3.52       0.76   \n",
              "1142                 32.0                  44.0  0.99547  3.57       0.71   \n",
              "\n",
              "      alcohol  quality    Id  \n",
              "0         9.4        5     0  \n",
              "1         9.8        5     1  \n",
              "2         9.8        5     2  \n",
              "3         9.8        6     3  \n",
              "4         9.4        5     4  \n",
              "...       ...      ...   ...  \n",
              "1138     11.0        6  1592  \n",
              "1139      9.5        6  1593  \n",
              "1140     10.5        5  1594  \n",
              "1141     11.2        6  1595  \n",
              "1142     10.2        5  1597  \n",
              "\n",
              "[1143 rows x 13 columns]"
            ],
            "text/html": [
              "\n",
              "  <div id=\"df-ee1fbddf-f547-491c-947e-564fa318ef8a\" class=\"colab-df-container\">\n",
              "    <div>\n",
              "<style scoped>\n",
              "    .dataframe tbody tr th:only-of-type {\n",
              "        vertical-align: middle;\n",
              "    }\n",
              "\n",
              "    .dataframe tbody tr th {\n",
              "        vertical-align: top;\n",
              "    }\n",
              "\n",
              "    .dataframe thead th {\n",
              "        text-align: right;\n",
              "    }\n",
              "</style>\n",
              "<table border=\"1\" class=\"dataframe\">\n",
              "  <thead>\n",
              "    <tr style=\"text-align: right;\">\n",
              "      <th></th>\n",
              "      <th>fixed acidity</th>\n",
              "      <th>volatile acidity</th>\n",
              "      <th>citric acid</th>\n",
              "      <th>residual sugar</th>\n",
              "      <th>chlorides</th>\n",
              "      <th>free sulfur dioxide</th>\n",
              "      <th>total sulfur dioxide</th>\n",
              "      <th>density</th>\n",
              "      <th>pH</th>\n",
              "      <th>sulphates</th>\n",
              "      <th>alcohol</th>\n",
              "      <th>quality</th>\n",
              "      <th>Id</th>\n",
              "    </tr>\n",
              "  </thead>\n",
              "  <tbody>\n",
              "    <tr>\n",
              "      <th>0</th>\n",
              "      <td>7.4</td>\n",
              "      <td>0.700</td>\n",
              "      <td>0.00</td>\n",
              "      <td>1.9</td>\n",
              "      <td>0.076</td>\n",
              "      <td>11.0</td>\n",
              "      <td>34.0</td>\n",
              "      <td>0.99780</td>\n",
              "      <td>3.51</td>\n",
              "      <td>0.56</td>\n",
              "      <td>9.4</td>\n",
              "      <td>5</td>\n",
              "      <td>0</td>\n",
              "    </tr>\n",
              "    <tr>\n",
              "      <th>1</th>\n",
              "      <td>7.8</td>\n",
              "      <td>0.880</td>\n",
              "      <td>0.00</td>\n",
              "      <td>2.6</td>\n",
              "      <td>0.098</td>\n",
              "      <td>25.0</td>\n",
              "      <td>67.0</td>\n",
              "      <td>0.99680</td>\n",
              "      <td>3.20</td>\n",
              "      <td>0.68</td>\n",
              "      <td>9.8</td>\n",
              "      <td>5</td>\n",
              "      <td>1</td>\n",
              "    </tr>\n",
              "    <tr>\n",
              "      <th>2</th>\n",
              "      <td>7.8</td>\n",
              "      <td>0.760</td>\n",
              "      <td>0.04</td>\n",
              "      <td>2.3</td>\n",
              "      <td>0.092</td>\n",
              "      <td>15.0</td>\n",
              "      <td>54.0</td>\n",
              "      <td>0.99700</td>\n",
              "      <td>3.26</td>\n",
              "      <td>0.65</td>\n",
              "      <td>9.8</td>\n",
              "      <td>5</td>\n",
              "      <td>2</td>\n",
              "    </tr>\n",
              "    <tr>\n",
              "      <th>3</th>\n",
              "      <td>11.2</td>\n",
              "      <td>0.280</td>\n",
              "      <td>0.56</td>\n",
              "      <td>1.9</td>\n",
              "      <td>0.075</td>\n",
              "      <td>17.0</td>\n",
              "      <td>60.0</td>\n",
              "      <td>0.99800</td>\n",
              "      <td>3.16</td>\n",
              "      <td>0.58</td>\n",
              "      <td>9.8</td>\n",
              "      <td>6</td>\n",
              "      <td>3</td>\n",
              "    </tr>\n",
              "    <tr>\n",
              "      <th>4</th>\n",
              "      <td>7.4</td>\n",
              "      <td>0.700</td>\n",
              "      <td>0.00</td>\n",
              "      <td>1.9</td>\n",
              "      <td>0.076</td>\n",
              "      <td>11.0</td>\n",
              "      <td>34.0</td>\n",
              "      <td>0.99780</td>\n",
              "      <td>3.51</td>\n",
              "      <td>0.56</td>\n",
              "      <td>9.4</td>\n",
              "      <td>5</td>\n",
              "      <td>4</td>\n",
              "    </tr>\n",
              "    <tr>\n",
              "      <th>...</th>\n",
              "      <td>...</td>\n",
              "      <td>...</td>\n",
              "      <td>...</td>\n",
              "      <td>...</td>\n",
              "      <td>...</td>\n",
              "      <td>...</td>\n",
              "      <td>...</td>\n",
              "      <td>...</td>\n",
              "      <td>...</td>\n",
              "      <td>...</td>\n",
              "      <td>...</td>\n",
              "      <td>...</td>\n",
              "      <td>...</td>\n",
              "    </tr>\n",
              "    <tr>\n",
              "      <th>1138</th>\n",
              "      <td>6.3</td>\n",
              "      <td>0.510</td>\n",
              "      <td>0.13</td>\n",
              "      <td>2.3</td>\n",
              "      <td>0.076</td>\n",
              "      <td>29.0</td>\n",
              "      <td>40.0</td>\n",
              "      <td>0.99574</td>\n",
              "      <td>3.42</td>\n",
              "      <td>0.75</td>\n",
              "      <td>11.0</td>\n",
              "      <td>6</td>\n",
              "      <td>1592</td>\n",
              "    </tr>\n",
              "    <tr>\n",
              "      <th>1139</th>\n",
              "      <td>6.8</td>\n",
              "      <td>0.620</td>\n",
              "      <td>0.08</td>\n",
              "      <td>1.9</td>\n",
              "      <td>0.068</td>\n",
              "      <td>28.0</td>\n",
              "      <td>38.0</td>\n",
              "      <td>0.99651</td>\n",
              "      <td>3.42</td>\n",
              "      <td>0.82</td>\n",
              "      <td>9.5</td>\n",
              "      <td>6</td>\n",
              "      <td>1593</td>\n",
              "    </tr>\n",
              "    <tr>\n",
              "      <th>1140</th>\n",
              "      <td>6.2</td>\n",
              "      <td>0.600</td>\n",
              "      <td>0.08</td>\n",
              "      <td>2.0</td>\n",
              "      <td>0.090</td>\n",
              "      <td>32.0</td>\n",
              "      <td>44.0</td>\n",
              "      <td>0.99490</td>\n",
              "      <td>3.45</td>\n",
              "      <td>0.58</td>\n",
              "      <td>10.5</td>\n",
              "      <td>5</td>\n",
              "      <td>1594</td>\n",
              "    </tr>\n",
              "    <tr>\n",
              "      <th>1141</th>\n",
              "      <td>5.9</td>\n",
              "      <td>0.550</td>\n",
              "      <td>0.10</td>\n",
              "      <td>2.2</td>\n",
              "      <td>0.062</td>\n",
              "      <td>39.0</td>\n",
              "      <td>51.0</td>\n",
              "      <td>0.99512</td>\n",
              "      <td>3.52</td>\n",
              "      <td>0.76</td>\n",
              "      <td>11.2</td>\n",
              "      <td>6</td>\n",
              "      <td>1595</td>\n",
              "    </tr>\n",
              "    <tr>\n",
              "      <th>1142</th>\n",
              "      <td>5.9</td>\n",
              "      <td>0.645</td>\n",
              "      <td>0.12</td>\n",
              "      <td>2.0</td>\n",
              "      <td>0.075</td>\n",
              "      <td>32.0</td>\n",
              "      <td>44.0</td>\n",
              "      <td>0.99547</td>\n",
              "      <td>3.57</td>\n",
              "      <td>0.71</td>\n",
              "      <td>10.2</td>\n",
              "      <td>5</td>\n",
              "      <td>1597</td>\n",
              "    </tr>\n",
              "  </tbody>\n",
              "</table>\n",
              "<p>1143 rows × 13 columns</p>\n",
              "</div>\n",
              "    <div class=\"colab-df-buttons\">\n",
              "\n",
              "  <div class=\"colab-df-container\">\n",
              "    <button class=\"colab-df-convert\" onclick=\"convertToInteractive('df-ee1fbddf-f547-491c-947e-564fa318ef8a')\"\n",
              "            title=\"Convert this dataframe to an interactive table.\"\n",
              "            style=\"display:none;\">\n",
              "\n",
              "  <svg xmlns=\"http://www.w3.org/2000/svg\" height=\"24px\" viewBox=\"0 -960 960 960\">\n",
              "    <path d=\"M120-120v-720h720v720H120Zm60-500h600v-160H180v160Zm220 220h160v-160H400v160Zm0 220h160v-160H400v160ZM180-400h160v-160H180v160Zm440 0h160v-160H620v160ZM180-180h160v-160H180v160Zm440 0h160v-160H620v160Z\"/>\n",
              "  </svg>\n",
              "    </button>\n",
              "\n",
              "  <style>\n",
              "    .colab-df-container {\n",
              "      display:flex;\n",
              "      gap: 12px;\n",
              "    }\n",
              "\n",
              "    .colab-df-convert {\n",
              "      background-color: #E8F0FE;\n",
              "      border: none;\n",
              "      border-radius: 50%;\n",
              "      cursor: pointer;\n",
              "      display: none;\n",
              "      fill: #1967D2;\n",
              "      height: 32px;\n",
              "      padding: 0 0 0 0;\n",
              "      width: 32px;\n",
              "    }\n",
              "\n",
              "    .colab-df-convert:hover {\n",
              "      background-color: #E2EBFA;\n",
              "      box-shadow: 0px 1px 2px rgba(60, 64, 67, 0.3), 0px 1px 3px 1px rgba(60, 64, 67, 0.15);\n",
              "      fill: #174EA6;\n",
              "    }\n",
              "\n",
              "    .colab-df-buttons div {\n",
              "      margin-bottom: 4px;\n",
              "    }\n",
              "\n",
              "    [theme=dark] .colab-df-convert {\n",
              "      background-color: #3B4455;\n",
              "      fill: #D2E3FC;\n",
              "    }\n",
              "\n",
              "    [theme=dark] .colab-df-convert:hover {\n",
              "      background-color: #434B5C;\n",
              "      box-shadow: 0px 1px 3px 1px rgba(0, 0, 0, 0.15);\n",
              "      filter: drop-shadow(0px 1px 2px rgba(0, 0, 0, 0.3));\n",
              "      fill: #FFFFFF;\n",
              "    }\n",
              "  </style>\n",
              "\n",
              "    <script>\n",
              "      const buttonEl =\n",
              "        document.querySelector('#df-ee1fbddf-f547-491c-947e-564fa318ef8a button.colab-df-convert');\n",
              "      buttonEl.style.display =\n",
              "        google.colab.kernel.accessAllowed ? 'block' : 'none';\n",
              "\n",
              "      async function convertToInteractive(key) {\n",
              "        const element = document.querySelector('#df-ee1fbddf-f547-491c-947e-564fa318ef8a');\n",
              "        const dataTable =\n",
              "          await google.colab.kernel.invokeFunction('convertToInteractive',\n",
              "                                                    [key], {});\n",
              "        if (!dataTable) return;\n",
              "\n",
              "        const docLinkHtml = 'Like what you see? Visit the ' +\n",
              "          '<a target=\"_blank\" href=https://colab.research.google.com/notebooks/data_table.ipynb>data table notebook</a>'\n",
              "          + ' to learn more about interactive tables.';\n",
              "        element.innerHTML = '';\n",
              "        dataTable['output_type'] = 'display_data';\n",
              "        await google.colab.output.renderOutput(dataTable, element);\n",
              "        const docLink = document.createElement('div');\n",
              "        docLink.innerHTML = docLinkHtml;\n",
              "        element.appendChild(docLink);\n",
              "      }\n",
              "    </script>\n",
              "  </div>\n",
              "\n",
              "\n",
              "<div id=\"df-034be333-fa68-4b02-8d96-ec6aaffd7292\">\n",
              "  <button class=\"colab-df-quickchart\" onclick=\"quickchart('df-034be333-fa68-4b02-8d96-ec6aaffd7292')\"\n",
              "            title=\"Suggest charts\"\n",
              "            style=\"display:none;\">\n",
              "\n",
              "<svg xmlns=\"http://www.w3.org/2000/svg\" height=\"24px\"viewBox=\"0 0 24 24\"\n",
              "     width=\"24px\">\n",
              "    <g>\n",
              "        <path d=\"M19 3H5c-1.1 0-2 .9-2 2v14c0 1.1.9 2 2 2h14c1.1 0 2-.9 2-2V5c0-1.1-.9-2-2-2zM9 17H7v-7h2v7zm4 0h-2V7h2v10zm4 0h-2v-4h2v4z\"/>\n",
              "    </g>\n",
              "</svg>\n",
              "  </button>\n",
              "\n",
              "<style>\n",
              "  .colab-df-quickchart {\n",
              "      --bg-color: #E8F0FE;\n",
              "      --fill-color: #1967D2;\n",
              "      --hover-bg-color: #E2EBFA;\n",
              "      --hover-fill-color: #174EA6;\n",
              "      --disabled-fill-color: #AAA;\n",
              "      --disabled-bg-color: #DDD;\n",
              "  }\n",
              "\n",
              "  [theme=dark] .colab-df-quickchart {\n",
              "      --bg-color: #3B4455;\n",
              "      --fill-color: #D2E3FC;\n",
              "      --hover-bg-color: #434B5C;\n",
              "      --hover-fill-color: #FFFFFF;\n",
              "      --disabled-bg-color: #3B4455;\n",
              "      --disabled-fill-color: #666;\n",
              "  }\n",
              "\n",
              "  .colab-df-quickchart {\n",
              "    background-color: var(--bg-color);\n",
              "    border: none;\n",
              "    border-radius: 50%;\n",
              "    cursor: pointer;\n",
              "    display: none;\n",
              "    fill: var(--fill-color);\n",
              "    height: 32px;\n",
              "    padding: 0;\n",
              "    width: 32px;\n",
              "  }\n",
              "\n",
              "  .colab-df-quickchart:hover {\n",
              "    background-color: var(--hover-bg-color);\n",
              "    box-shadow: 0 1px 2px rgba(60, 64, 67, 0.3), 0 1px 3px 1px rgba(60, 64, 67, 0.15);\n",
              "    fill: var(--button-hover-fill-color);\n",
              "  }\n",
              "\n",
              "  .colab-df-quickchart-complete:disabled,\n",
              "  .colab-df-quickchart-complete:disabled:hover {\n",
              "    background-color: var(--disabled-bg-color);\n",
              "    fill: var(--disabled-fill-color);\n",
              "    box-shadow: none;\n",
              "  }\n",
              "\n",
              "  .colab-df-spinner {\n",
              "    border: 2px solid var(--fill-color);\n",
              "    border-color: transparent;\n",
              "    border-bottom-color: var(--fill-color);\n",
              "    animation:\n",
              "      spin 1s steps(1) infinite;\n",
              "  }\n",
              "\n",
              "  @keyframes spin {\n",
              "    0% {\n",
              "      border-color: transparent;\n",
              "      border-bottom-color: var(--fill-color);\n",
              "      border-left-color: var(--fill-color);\n",
              "    }\n",
              "    20% {\n",
              "      border-color: transparent;\n",
              "      border-left-color: var(--fill-color);\n",
              "      border-top-color: var(--fill-color);\n",
              "    }\n",
              "    30% {\n",
              "      border-color: transparent;\n",
              "      border-left-color: var(--fill-color);\n",
              "      border-top-color: var(--fill-color);\n",
              "      border-right-color: var(--fill-color);\n",
              "    }\n",
              "    40% {\n",
              "      border-color: transparent;\n",
              "      border-right-color: var(--fill-color);\n",
              "      border-top-color: var(--fill-color);\n",
              "    }\n",
              "    60% {\n",
              "      border-color: transparent;\n",
              "      border-right-color: var(--fill-color);\n",
              "    }\n",
              "    80% {\n",
              "      border-color: transparent;\n",
              "      border-right-color: var(--fill-color);\n",
              "      border-bottom-color: var(--fill-color);\n",
              "    }\n",
              "    90% {\n",
              "      border-color: transparent;\n",
              "      border-bottom-color: var(--fill-color);\n",
              "    }\n",
              "  }\n",
              "</style>\n",
              "\n",
              "  <script>\n",
              "    async function quickchart(key) {\n",
              "      const quickchartButtonEl =\n",
              "        document.querySelector('#' + key + ' button');\n",
              "      quickchartButtonEl.disabled = true;  // To prevent multiple clicks.\n",
              "      quickchartButtonEl.classList.add('colab-df-spinner');\n",
              "      try {\n",
              "        const charts = await google.colab.kernel.invokeFunction(\n",
              "            'suggestCharts', [key], {});\n",
              "      } catch (error) {\n",
              "        console.error('Error during call to suggestCharts:', error);\n",
              "      }\n",
              "      quickchartButtonEl.classList.remove('colab-df-spinner');\n",
              "      quickchartButtonEl.classList.add('colab-df-quickchart-complete');\n",
              "    }\n",
              "    (() => {\n",
              "      let quickchartButtonEl =\n",
              "        document.querySelector('#df-034be333-fa68-4b02-8d96-ec6aaffd7292 button');\n",
              "      quickchartButtonEl.style.display =\n",
              "        google.colab.kernel.accessAllowed ? 'block' : 'none';\n",
              "    })();\n",
              "  </script>\n",
              "</div>\n",
              "    </div>\n",
              "  </div>\n"
            ]
          },
          "metadata": {},
          "execution_count": 3
        }
      ],
      "source": [
        "wine_data = pd.read_csv(\"/content/drive/MyDrive/SMAI_Google colab/WineQT.csv\")\n",
        "wine_data"
      ]
    },
    {
      "cell_type": "code",
      "execution_count": 4,
      "metadata": {
        "colab": {
          "base_uri": "https://localhost:8080/"
        },
        "id": "rQPS00wQS_yt",
        "outputId": "b1f1524c-149c-4b7f-cb56-74c51fc0cc74"
      },
      "outputs": [
        {
          "output_type": "stream",
          "name": "stdout",
          "text": [
            "The shape of the data: (1143, 12)\n"
          ]
        },
        {
          "output_type": "execute_result",
          "data": {
            "text/plain": [
              "Index(['fixed acidity', 'volatile acidity', 'citric acid', 'residual sugar',\n",
              "       'chlorides', 'free sulfur dioxide', 'total sulfur dioxide', 'density',\n",
              "       'pH', 'sulphates', 'alcohol', 'quality'],\n",
              "      dtype='object')"
            ]
          },
          "metadata": {},
          "execution_count": 4
        }
      ],
      "source": [
        "X_data_w = wine_data.drop(\"Id\",axis=1)\n",
        "print(\"The shape of the data:\",np.array(X_data_w).shape)\n",
        "X_data_w.columns"
      ]
    },
    {
      "cell_type": "code",
      "execution_count": null,
      "metadata": {
        "colab": {
          "base_uri": "https://localhost:8080/",
          "height": 489
        },
        "id": "CuOLPyOVS_yu",
        "outputId": "2177af48-3ec2-461b-a520-e6ca85c26190"
      },
      "outputs": [
        {
          "output_type": "execute_result",
          "data": {
            "text/plain": [
              "Text(0, 0.5, 'Count')"
            ]
          },
          "metadata": {},
          "execution_count": 5
        },
        {
          "output_type": "display_data",
          "data": {
            "text/plain": [
              "<Figure size 640x480 with 1 Axes>"
            ],
            "image/png": "[encoded data removed]"
          },
          "metadata": {}
        }
      ],
      "source": [
        "X_data_w[\"quality\"].sort_index().plot(kind='hist')\n",
        "plt.title('Distribution of Quality')\n",
        "plt.xlabel('Quality')\n",
        "plt.ylabel('Count')"
      ]
    },
    {
      "cell_type": "code",
      "execution_count": 5,
      "metadata": {
        "colab": {
          "base_uri": "https://localhost:8080/"
        },
        "id": "fDgUE5ygS_yu",
        "outputId": "e0cb49ce-76e4-4b1f-b945-7368b22217bc"
      },
      "outputs": [
        {
          "output_type": "stream",
          "name": "stdout",
          "text": [
            "Shape of the train, test and validaton data: (800, 11) (172, 11) (171, 11)\n",
            "Shape of the train, test and validaton label: (800, 1) (172, 1) (171, 1)\n"
          ]
        }
      ],
      "source": [
        "Y_data_w = X_data_w['quality']\n",
        "\n",
        "#multi class to binary conversion\n",
        "Y_data_W_n = []\n",
        "for i,Y in enumerate(Y_data_w):\n",
        "  if (Y==3 or Y==4 or Y==5):\n",
        "    Y_data_W_n.append(0)\n",
        "  else:\n",
        "    Y_data_W_n.append(1)\n",
        "Y_data_w_n = np.array(Y_data_W_n).reshape(len(Y_data_w),-1)\n",
        "\n",
        "X_data_w_n = X_data_w.drop('quality',axis=1)\n",
        "\n",
        "# X_data_w_n = preprocessing.normalize(X_data_w_n,axis=0)\n",
        "# X_data_w_n = std.fit_transform(X=X_data_w_n)\n",
        "\n",
        "X_train_t, X_test_w, Y_train_t, Y_test_w = train_test_split(X_data_w_n,Y_data_w_n,test_size=0.15,random_state=1)\n",
        "X_train_w, X_valid_w,Y_train_w, Y_valid_w = train_test_split(X_train_t,Y_train_t,test_size=0.176,random_state=1)\n",
        "\n",
        "std = preprocessing.StandardScaler()\n",
        "X_train_w = std.fit_transform(X=X_train_w)\n",
        "X_test_w = std.fit_transform(X=X_test_w)\n",
        "X_valid_w = std.fit_transform(X=X_valid_w)\n",
        "\n",
        "print(\"Shape of the train, test and validaton data:\",X_train_w.shape,X_test_w.shape,X_valid_w.shape)\n",
        "print(\"Shape of the train, test and validaton label:\",Y_train_w.shape,Y_test_w.shape,Y_valid_w.shape)"
      ]
    },
    {
      "cell_type": "markdown",
      "source": [
        "## 4.1 Random Forest Classifier Tranning"
      ],
      "metadata": {
        "id": "_ZfQSTwrdM4p"
      }
    },
    {
      "cell_type": "markdown",
      "source": [
        "1. Train a Random Forest Classifier and Regressor along the same lines of\n",
        "the Bagging exercise (for decision tree) and report the best-performing\n",
        "hyper-parameters"
      ],
      "metadata": {
        "id": "mt8zSPh_yOM4"
      }
    },
    {
      "cell_type": "code",
      "source": [
        "class random_forest_classifier:\n",
        "  def __init__(self, n_trees=10, criterion = 'gini',max_depth=10, max_features = 10, min_samples_split=2,random_state=None):\n",
        "    self.n_trees = n_trees\n",
        "    self.criterion = criterion\n",
        "    self.max_depth=max_depth\n",
        "    self.max_features = max_features\n",
        "    self.min_samples_split=min_samples_split\n",
        "    self.random_state = random_state\n",
        "    self.trees = []\n",
        "\n",
        "  def fit(self,X,y):\n",
        "    self.trees = []\n",
        "    for i in range(self.n_trees):\n",
        "        tree_ = tree.DecisionTreeClassifier(criterion=self.criterion, max_depth=self.max_depth,\n",
        "                                           max_features=self.max_features, min_samples_split=self.min_samples_split,\n",
        "                                           random_state=self.random_state)\n",
        "\n",
        "        indices = np.random.choice(len(X), size=len(X), replace=True)\n",
        "        tree_.fit(X[indices], y[indices])\n",
        "        self.trees.append(tree_)\n",
        "\n",
        "\n",
        "  def predict(self,X_test):\n",
        "    test_preds = np.empty((0,1),float)\n",
        "    pred_is_empty = True\n",
        "    for tree in self.trees:\n",
        "      if pred_is_empty == True:\n",
        "        test_preds = np.append(test_preds,tree.predict(X_test),axis=None)\n",
        "        pred_is_empty = False\n",
        "        test_preds = np.array(test_preds).reshape(len(test_preds),-1)\n",
        "      else:\n",
        "        test_preds = np.append(test_preds,np.array(tree.predict(X_test)).reshape(len(X_test),-1),axis=1)\n",
        "    test_preds_sum = np.sum(test_preds,axis=1)\n",
        "    pred = []\n",
        "    for s in test_preds_sum:\n",
        "      if (s>int(self.n_trees/2)):\n",
        "        pred.append(1)\n",
        "      else:\n",
        "        pred.append(0)\n",
        "    return np.array(pred).reshape(len(test_preds_sum),-1)\n",
        "\n"
      ],
      "metadata": {
        "id": "3TcpUtwhdMEH"
      },
      "execution_count": 39,
      "outputs": []
    },
    {
      "cell_type": "code",
      "source": [
        "random_state = 12\n",
        "h_param = {\n",
        "        'n_trees':[7,9,11,13,15,17,19],\n",
        "        'criterion' : ['gini', 'entropy'],\n",
        "        'Max_depth' : [3,5,10,20,30],\n",
        "        'Max_features' : [3,5,7,9,11]\n",
        "        }\n",
        "hyper_param = list(product(*h_param.values()))\n",
        "accuracy = []\n",
        "for i in hyper_param:\n",
        "  r_f = random_forest_classifier(n_trees=i[0], criterion = i[1] ,max_depth=i[2], max_features = i[3], random_state=random_state)\n",
        "  r_f.fit(X_train_w,Y_train_w)\n",
        "  predicted_value = r_f.predict(X_valid_w)\n",
        "  acc = np.sum(predicted_value==Y_valid_w)/len(X_valid_w)\n",
        "  accuracy.append(acc)\n",
        "max_accuracy_index = np.argmax(accuracy)\n",
        "print(f\"The hyperparameters index for the maximum accuracy = {max_accuracy_index},\\nThe hyperparameters for the maximum accuracy = {hyper_param[max_accuracy_index]},\\nThe max accuracy = {accuracy[max_accuracy_index]}\")\n",
        "print(\"\\n\")"
      ],
      "metadata": {
        "colab": {
          "base_uri": "https://localhost:8080/"
        },
        "id": "tSjiT9qOhxwI",
        "outputId": "f3cd5aa9-0876-4ccf-93fc-8bf80ce83d97"
      },
      "execution_count": 40,
      "outputs": [
        {
          "output_type": "stream",
          "name": "stdout",
          "text": [
            "The hyperparameters index for the maximum accuracy = 149,\n",
            "The hyperparameters for the maximum accuracy = (11, 'entropy', 30, 11),\n",
            "The max accuracy = 0.8011695906432749\n",
            "\n",
            "\n"
          ]
        }
      ]
    },
    {
      "cell_type": "code",
      "source": [
        "plt.plot(np.array(accuracy))\n",
        "plt.title(\"Hyper parameter vs Accuracy\")\n",
        "plt.xlabel(\"Hyper parameters\")\n",
        "plt.ylabel(\"Accuracy\")"
      ],
      "metadata": {
        "colab": {
          "base_uri": "https://localhost:8080/",
          "height": 489
        },
        "id": "Sxinc_ycx_5X",
        "outputId": "3e96f4fc-08a7-4e20-8c8c-2e5bba42bcb6"
      },
      "execution_count": null,
      "outputs": [
        {
          "output_type": "execute_result",
          "data": {
            "text/plain": [
              "Text(0, 0.5, 'Accuracy')"
            ]
          },
          "metadata": {},
          "execution_count": 21
        },
        {
          "output_type": "display_data",
          "data": {
            "text/plain": [
              "<Figure size 640x480 with 1 Axes>"
            ],
            "image/png": "[encoded data removed]"
          },
          "metadata": {}
        }
      ]
    },
    {
      "cell_type": "code",
      "source": [
        "r_f = random_forest_classifier(n_trees=9, criterion = 'entropy' ,max_depth=5, max_features = 7, random_state=12)\n",
        "start = time.time()\n",
        "r_f.fit(X_train_w,Y_train_w)\n",
        "end = time.time()\n",
        "predicted_value = r_f.predict(X_valid_w)\n",
        "acc_r = np.sum(predicted_value==Y_valid_w)/len(X_valid_w)\n",
        "time_r = end-start\n",
        "print(\"Time:\",time_r, \"Accuracy:\",acc_r)\n"
      ],
      "metadata": {
        "colab": {
          "base_uri": "https://localhost:8080/"
        },
        "id": "LP7q4UZyy3xQ",
        "outputId": "c7240f7b-de57-4609-9458-0a34796cdaa4"
      },
      "execution_count": 68,
      "outputs": [
        {
          "output_type": "stream",
          "name": "stdout",
          "text": [
            "Time: 0.03622269630432129 Accuracy: 0.7426900584795322\n"
          ]
        }
      ]
    },
    {
      "cell_type": "code",
      "source": [
        "print(\"confusion_matrix\")\n",
        "print(confusion_matrix(predicted_value, Y_valid_w))\n",
        "print(\"\\nClassification Report of Classifier:\\n\", classification_report(predicted_value, Y_valid_w))"
      ],
      "metadata": {
        "colab": {
          "base_uri": "https://localhost:8080/"
        },
        "id": "Y7lnOWftLaUs",
        "outputId": "c88128b8-5731-43e2-cc08-233c4668f11a"
      },
      "execution_count": 74,
      "outputs": [
        {
          "output_type": "stream",
          "name": "stdout",
          "text": [
            "confusion_matrix\n",
            "[[57 21]\n",
            " [23 70]]\n",
            "\n",
            "Classification Report of Classifier:\n",
            "               precision    recall  f1-score   support\n",
            "\n",
            "           0       0.71      0.73      0.72        78\n",
            "           1       0.77      0.75      0.76        93\n",
            "\n",
            "    accuracy                           0.74       171\n",
            "   macro avg       0.74      0.74      0.74       171\n",
            "weighted avg       0.74      0.74      0.74       171\n",
            "\n"
          ]
        }
      ]
    },
    {
      "cell_type": "code",
      "source": [],
      "metadata": {
        "colab": {
          "base_uri": "https://localhost:8080/"
        },
        "id": "tKSzZfz8MDnR",
        "outputId": "246fc430-e42e-4a78-a644-4579a6f6c61b"
      },
      "execution_count": 72,
      "outputs": [
        {
          "output_type": "stream",
          "name": "stdout",
          "text": [
            "\n",
            "Classification Report of Classifier:\n",
            "               precision    recall  f1-score   support\n",
            "\n",
            "           0       0.71      0.73      0.72        78\n",
            "           1       0.77      0.75      0.76        93\n",
            "\n",
            "    accuracy                           0.74       171\n",
            "   macro avg       0.74      0.74      0.74       171\n",
            "weighted avg       0.74      0.74      0.74       171\n",
            "\n"
          ]
        }
      ]
    },
    {
      "cell_type": "markdown",
      "source": [
        "## 4.2 Adaboost Classifier"
      ],
      "metadata": {
        "id": "cJ7WUHEceRTB"
      }
    },
    {
      "cell_type": "markdown",
      "source": [
        "2. Compare the results of the best Random Forest with the following Boosted\n",
        "Decision Trees. Also, experiment with the number of estimators and plot\n",
        "their training times and accuracies.<br>\n",
        "• Decision Trees + AdaBoost<br>\n",
        "• Gradient Boosted Decision Trees\n"
      ],
      "metadata": {
        "id": "cBKLlP5EyIJD"
      }
    },
    {
      "cell_type": "code",
      "source": [
        "#  Decision Trees + AdaBoost\n",
        "# This class is use for binary classification only\n",
        "class adaboost_DT_classification:\n",
        "  def __init__(self,n_models=10,random_state = None):\n",
        "    self.alphas = []\n",
        "    self.models = []\n",
        "    self.errors = []\n",
        "    self.n_models = n_models\n",
        "    self.random_state = random_state\n",
        "\n",
        "  def fit(self,X,y):\n",
        "    # np.random.seed(self.random_state)\n",
        "    for m in range(self.n_models):\n",
        "        if m==0:\n",
        "          weights = np.ones(len(y))/len(y)\n",
        "        else:\n",
        "          weights = weights * np.exp(alpha_m * (np.not_equal(y, y_pred)).astype(int))\n",
        "\n",
        "        model = tree.DecisionTreeClassifier(max_depth = 1, random_state= self.random_state)\n",
        "        model.fit(X, y, sample_weight = weights)\n",
        "        y_pred = model.predict(X)\n",
        "\n",
        "        self.models.append(model)\n",
        "        #error\n",
        "        error_m = (sum(weights * (np.not_equal(y, y_pred)).astype(int)))/sum(weights)\n",
        "        # print(\"error_m\",error_m)\n",
        "        self.errors.append(error_m)\n",
        "        #alpha\n",
        "        alpha_m = np.log((1 - error_m) / error_m)\n",
        "        self.alphas.append(alpha_m)\n",
        "\n",
        "  def predict(self, X_test):\n",
        "    preds = np.empty((0,1),float)\n",
        "    is_preds_empty = True\n",
        "    for i, model in enumerate(self.models):\n",
        "      pred =np.array(model.predict(X_test)*self.alphas[i]).reshape(len(X_test),-1)\n",
        "      if is_preds_empty == True:\n",
        "        preds = np.append(preds,pred, axis=None)\n",
        "        is_preds_empty = False\n",
        "        preds = np.array(preds).reshape(len(preds),-1)\n",
        "      else:\n",
        "        preds = np.append(preds, pred, axis = 1)\n",
        "    preds_sum = np.sum(preds,axis=1)\n",
        "    return (1 * np.sign(preds_sum)).astype(int)"
      ],
      "metadata": {
        "id": "XyhhpGDoybQ6"
      },
      "execution_count": 84,
      "outputs": []
    },
    {
      "cell_type": "code",
      "source": [
        "# convert the labels from {0,1} to {-1,1}\n",
        "pred = []\n",
        "for s in Y_train_w:\n",
        "      if (s==0):\n",
        "        pred.append(-1)\n",
        "      else:\n",
        "        pred.append(1)\n",
        "Y_train_w_b = np.array(pred)\n",
        "pred = []\n",
        "for s in Y_valid_w:\n",
        "      if (s==0):\n",
        "        pred.append(-1)\n",
        "      else:\n",
        "        pred.append(1)\n",
        "Y_valid_w_b = np.array(pred)\n",
        "#train the model and find the accuracy\n",
        "random_state=15\n",
        "hyper_param = [10,25,50,75]\n",
        "accuracy = []\n",
        "time_r_ = []\n",
        "for m in hyper_param:\n",
        "  adab = adaboost_DT_classification(n_models=m,random_state=random_state)\n",
        "  start = time.time()\n",
        "  adab.fit(X_train_w, Y_train_w_b)\n",
        "  end = time.time()\n",
        "  predicted_value = adab.predict(X_valid_w)\n",
        "  acc_a = np.sum(predicted_value==Y_valid_w_b)/len(X_valid_w)\n",
        "  time_a = end-start\n",
        "  time_r_.append(time_a)\n",
        "  accuracy.append(acc_a)\n",
        "max_accuracy_index = np.argmax(accuracy)\n",
        "time_r = time_r_[max_accuracy_index]\n",
        "print(\"Time:\",time_r)\n",
        "print(f\"The hyperparameters index for the maximum accuracy = {max_accuracy_index},\\nThe hyperparameters for the maximum accuracy = {hyper_param[max_accuracy_index]},\\nThe max accuracy = {accuracy[max_accuracy_index]}\")\n",
        "print(\"\\n\")"
      ],
      "metadata": {
        "colab": {
          "base_uri": "https://localhost:8080/"
        },
        "id": "Egpj0CYCwuLh",
        "outputId": "8e770296-dbe9-4057-d256-de007abba49b"
      },
      "execution_count": 105,
      "outputs": [
        {
          "output_type": "stream",
          "name": "stdout",
          "text": [
            "Time: 0.14117169380187988\n",
            "The hyperparameters index for the maximum accuracy = 3,\n",
            "The hyperparameters for the maximum accuracy = 75,\n",
            "The max accuracy = 0.7660818713450293\n",
            "\n",
            "\n"
          ]
        }
      ]
    },
    {
      "cell_type": "code",
      "source": [
        "print(\"confusion_matrix\")\n",
        "print(confusion_matrix(Y_valid_w,predicted_value,labels = [-1,1]))\n",
        "print(\"\\nClassification Report of Classifier:\\n\", classification_report(Y_valid_w,predicted_value))"
      ],
      "metadata": {
        "colab": {
          "base_uri": "https://localhost:8080/"
        },
        "id": "ZNkxkVC_Mu6F",
        "outputId": "cefc7bcd-e119-428d-d026-2866fce7b4e1"
      },
      "execution_count": 108,
      "outputs": [
        {
          "output_type": "stream",
          "name": "stdout",
          "text": [
            "confusion_matrix\n",
            "[[ 0  0]\n",
            " [15 76]]\n",
            "\n",
            "Classification Report of Classifier:\n",
            "               precision    recall  f1-score   support\n",
            "\n",
            "          -1       0.00      0.00      0.00         0\n",
            "           0       0.00      0.00      0.00        80\n",
            "           1       0.75      0.84      0.79        91\n",
            "\n",
            "    accuracy                           0.44       171\n",
            "   macro avg       0.25      0.28      0.26       171\n",
            "weighted avg       0.40      0.44      0.42       171\n",
            "\n"
          ]
        },
        {
          "output_type": "stream",
          "name": "stderr",
          "text": [
            "/usr/local/lib/python3.10/dist-packages/sklearn/metrics/_classification.py:1344: UndefinedMetricWarning: Precision and F-score are ill-defined and being set to 0.0 in labels with no predicted samples. Use `zero_division` parameter to control this behavior.\n",
            "  _warn_prf(average, modifier, msg_start, len(result))\n",
            "/usr/local/lib/python3.10/dist-packages/sklearn/metrics/_classification.py:1344: UndefinedMetricWarning: Recall and F-score are ill-defined and being set to 0.0 in labels with no true samples. Use `zero_division` parameter to control this behavior.\n",
            "  _warn_prf(average, modifier, msg_start, len(result))\n",
            "/usr/local/lib/python3.10/dist-packages/sklearn/metrics/_classification.py:1344: UndefinedMetricWarning: Precision and F-score are ill-defined and being set to 0.0 in labels with no predicted samples. Use `zero_division` parameter to control this behavior.\n",
            "  _warn_prf(average, modifier, msg_start, len(result))\n",
            "/usr/local/lib/python3.10/dist-packages/sklearn/metrics/_classification.py:1344: UndefinedMetricWarning: Recall and F-score are ill-defined and being set to 0.0 in labels with no true samples. Use `zero_division` parameter to control this behavior.\n",
            "  _warn_prf(average, modifier, msg_start, len(result))\n",
            "/usr/local/lib/python3.10/dist-packages/sklearn/metrics/_classification.py:1344: UndefinedMetricWarning: Precision and F-score are ill-defined and being set to 0.0 in labels with no predicted samples. Use `zero_division` parameter to control this behavior.\n",
            "  _warn_prf(average, modifier, msg_start, len(result))\n",
            "/usr/local/lib/python3.10/dist-packages/sklearn/metrics/_classification.py:1344: UndefinedMetricWarning: Recall and F-score are ill-defined and being set to 0.0 in labels with no true samples. Use `zero_division` parameter to control this behavior.\n",
            "  _warn_prf(average, modifier, msg_start, len(result))\n"
          ]
        }
      ]
    },
    {
      "cell_type": "markdown",
      "source": [
        "## 4.3 Gradient Boosted Decision Trees classification"
      ],
      "metadata": {
        "id": "11kHNiOYLqGr"
      }
    },
    {
      "cell_type": "code",
      "source": [
        "class GradientBoostingClassifier:\n",
        "    def __init__(self, n_estimators=100, learning_rate=0.1):\n",
        "        self.n_estimators = n_estimators\n",
        "        self.learning_rate = learning_rate\n",
        "        self.models = []\n",
        "        self.estimators = []\n",
        "        self.e0 = 0\n",
        "\n",
        "    def fit(self, X, y):\n",
        "        self.e0 = np.mean(y)\n",
        "        predictions = self.e0*np.ones(y.shape[0])\n",
        "        self.models.append(predictions)\n",
        "\n",
        "        for _ in range(self.n_estimators):\n",
        "            logits = np.log(predictions / (1 - predictions))\n",
        "\n",
        "            residuals = y - 1 / (1 + np.exp(-logits))  # Logistic loss gradient\n",
        "            residuals = (residuals > 0).astype(int)\n",
        "            # residuals = y - self.models[-1]\n",
        "            tree_ = tree.DecisionTreeClassifier(criterion='gini', max_depth=5,min_samples_leaf=2,min_samples_split=2)\n",
        "            tree_.fit(X, residuals)\n",
        "            self.estimators.append(tree_)\n",
        "            self.models.append(self.models[-1] + self.learning_rate * tree_.predict(X))\n",
        "\n",
        "    def predict(self, X):\n",
        "      d = []\n",
        "      d.append(self.e0*np.ones(len(X))\n",
        ")\n",
        "      for model in self.estimators:\n",
        "        d.append(self.learning_rate * model.predict(X))\n",
        "      c = sum(d)\n",
        "      return np.where(1 / (1 + np.exp(-np.array(c))) >= 0, 1, -1)\n"
      ],
      "metadata": {
        "id": "0JTGv-ib73J_"
      },
      "execution_count": 99,
      "outputs": []
    },
    {
      "cell_type": "code",
      "source": [
        "pred = []\n",
        "for s in Y_train_w:\n",
        "      if (s==0):\n",
        "        pred.append(-1)\n",
        "      else:\n",
        "        pred.append(1)\n",
        "Y_train_w_b = np.array(pred)\n",
        "pred = []\n",
        "for s in Y_valid_w:\n",
        "      if (s==0):\n",
        "        pred.append(-1)\n",
        "      else:\n",
        "        pred.append(1)\n",
        "Y_valid_w_b = np.array(pred)\n",
        "random_state=15\n",
        "hyper_param = [25,50,75,100,10] #No of models\n",
        "accuracy = []\n",
        "time_g_ = []\n",
        "for m in hyper_param:\n",
        "  gbdt_classifier = GradientBoostingClassifier(n_estimators=m, learning_rate=0.2)\n",
        "  start = time.time()\n",
        "  gbdt_classifier.fit(X_train_w, np.array(Y_train_w).reshape(len(Y_train_w),))\n",
        "  end = time.time()\n",
        "  # Make predictions on the test set\n",
        "  predicted_value = gbdt_classifier.predict(X_valid_w)\n",
        "  acc_g = np.sum(predicted_value==np.array(Y_valid_w).reshape(len(Y_valid_w),))/len(X_valid_w)\n",
        "  time_g = end-start\n",
        "  accuracy.append(acc_g)\n",
        "  time_g_.append(time_g)\n",
        "max_accuracy_index = np.argmax(accuracy)\n",
        "time_g = time_g_[max_accuracy_index]\n",
        "print(\"Time:\",time_g)\n",
        "print(f\"The hyperparameters index for the maximum accuracy = {max_accuracy_index},\\nThe hyperparameters for the maximum accuracy = {hyper_param[max_accuracy_index]},\\nThe max accuracy = {accuracy[max_accuracy_index]}\")\n",
        "print(\"\\n\")"
      ],
      "metadata": {
        "colab": {
          "base_uri": "https://localhost:8080/"
        },
        "id": "59zJUkE-PyhA",
        "outputId": "79c8bee6-7d33-4219-c8d6-0bdaa927646b"
      },
      "execution_count": 103,
      "outputs": [
        {
          "output_type": "stream",
          "name": "stdout",
          "text": [
            "Time: 0.09588932991027832\n",
            "The hyperparameters index for the maximum accuracy = 0,\n",
            "The hyperparameters for the maximum accuracy = 25,\n",
            "The max accuracy = 0.5321637426900585\n",
            "\n",
            "\n"
          ]
        }
      ]
    },
    {
      "cell_type": "code",
      "source": [
        "print(\"confusion_matrix\")\n",
        "print(confusion_matrix(predicted_value, Y_valid_w))\n",
        "print(\"\\nClassification Report of Classifier:\\n\", classification_report(predicted_value, Y_valid_w))"
      ],
      "metadata": {
        "colab": {
          "base_uri": "https://localhost:8080/"
        },
        "id": "wxdooOW_PRyl",
        "outputId": "0970a60a-aada-436b-8c4b-331ac9462a61"
      },
      "execution_count": 104,
      "outputs": [
        {
          "output_type": "stream",
          "name": "stdout",
          "text": [
            "confusion_matrix\n",
            "[[ 0  0]\n",
            " [80 91]]\n",
            "\n",
            "Classification Report of Classifier:\n",
            "               precision    recall  f1-score   support\n",
            "\n",
            "           0       0.00      0.00      0.00         0\n",
            "           1       1.00      0.53      0.69       171\n",
            "\n",
            "    accuracy                           0.53       171\n",
            "   macro avg       0.50      0.27      0.35       171\n",
            "weighted avg       1.00      0.53      0.69       171\n",
            "\n"
          ]
        },
        {
          "output_type": "stream",
          "name": "stderr",
          "text": [
            "/usr/local/lib/python3.10/dist-packages/sklearn/metrics/_classification.py:1344: UndefinedMetricWarning: Recall and F-score are ill-defined and being set to 0.0 in labels with no true samples. Use `zero_division` parameter to control this behavior.\n",
            "  _warn_prf(average, modifier, msg_start, len(result))\n",
            "/usr/local/lib/python3.10/dist-packages/sklearn/metrics/_classification.py:1344: UndefinedMetricWarning: Recall and F-score are ill-defined and being set to 0.0 in labels with no true samples. Use `zero_division` parameter to control this behavior.\n",
            "  _warn_prf(average, modifier, msg_start, len(result))\n",
            "/usr/local/lib/python3.10/dist-packages/sklearn/metrics/_classification.py:1344: UndefinedMetricWarning: Recall and F-score are ill-defined and being set to 0.0 in labels with no true samples. Use `zero_division` parameter to control this behavior.\n",
            "  _warn_prf(average, modifier, msg_start, len(result))\n"
          ]
        }
      ]
    },
    {
      "cell_type": "code",
      "source": [
        "plt.figure(figsize=(10, 6))\n",
        "plt.subplot(1, 2, 1)\n",
        "plt.bar(['Random forest','Adaboost','Gradient boost'],[acc_r,acc_a,acc_g])\n",
        "plt.title('accuracy comparision ')\n",
        "plt.xlabel('Models')\n",
        "plt.ylabel('Accuracy')\n",
        "\n",
        "plt.subplot(1, 2, 2)\n",
        "plt.bar(['Random forest','Adaboost','Gradient boost'],[time_r, time_a, time_g], color='green')\n",
        "plt.title('Train time comparision')\n",
        "plt.xlabel('Models')\n",
        "plt.ylabel('time')\n",
        "plt.show()"
      ],
      "metadata": {
        "colab": {
          "base_uri": "https://localhost:8080/",
          "height": 564
        },
        "id": "09OhOK8sxiAn",
        "outputId": "668f4809-8542-40c5-9b5e-8b1b1935b0bc"
      },
      "execution_count": 53,
      "outputs": [
        {
          "output_type": "display_data",
          "data": {
            "text/plain": [
              "<Figure size 1000x600 with 2 Axes>"
            ],
            "image/png": "[encoded data removed]"
          },
          "metadata": {}
        }
      ]
    },
    {
      "cell_type": "markdown",
      "source": [],
      "metadata": {
        "id": "zIxOK-9LJatp"
      }
    },
    {
      "cell_type": "markdown",
      "metadata": {
        "id": "9VURDdY3S_y2"
      },
      "source": [
        "## Housing Dataset preprocessing"
      ]
    },
    {
      "cell_type": "code",
      "execution_count": 54,
      "metadata": {
        "colab": {
          "base_uri": "https://localhost:8080/",
          "height": 496
        },
        "id": "7pH3PFn-S_y2",
        "outputId": "78a8999f-7b45-4f0d-86a1-b6d6c24b0f58"
      },
      "outputs": [
        {
          "output_type": "stream",
          "name": "stdout",
          "text": [
            "The shape of the data: (506, 14)\n",
            "Index(['CRIM', 'ZN', 'INDUS', 'CHAS', 'NOX', 'RM', 'AGE', 'DIS', 'RAD', 'TAX',\n",
            "       'PTRATIO', 'B', 'LSTAT', 'MEDV'],\n",
            "      dtype='object')\n"
          ]
        },
        {
          "output_type": "execute_result",
          "data": {
            "text/plain": [
              "        CRIM    ZN  INDUS  CHAS    NOX     RM        AGE     DIS  RAD  TAX  \\\n",
              "0    0.00632  18.0   2.31   0.0  0.538  6.575  65.200000  4.0900    1  296   \n",
              "1    0.02731   0.0   7.07   0.0  0.469  6.421  78.900000  4.9671    2  242   \n",
              "2    0.02729   0.0   7.07   0.0  0.469  7.185  61.100000  4.9671    2  242   \n",
              "3    0.03237   0.0   2.18   0.0  0.458  6.998  45.800000  6.0622    3  222   \n",
              "4    0.06905   0.0   2.18   0.0  0.458  7.147  54.200000  6.0622    3  222   \n",
              "..       ...   ...    ...   ...    ...    ...        ...     ...  ...  ...   \n",
              "501  0.06263   0.0  11.93   0.0  0.573  6.593  69.100000  2.4786    1  273   \n",
              "502  0.04527   0.0  11.93   0.0  0.573  6.120  76.700000  2.2875    1  273   \n",
              "503  0.06076   0.0  11.93   0.0  0.573  6.976  91.000000  2.1675    1  273   \n",
              "504  0.10959   0.0  11.93   0.0  0.573  6.794  89.300000  2.3889    1  273   \n",
              "505  0.04741   0.0  11.93   0.0  0.573  6.030  68.518519  2.5050    1  273   \n",
              "\n",
              "     PTRATIO       B      LSTAT  MEDV  \n",
              "0       15.3  396.90   4.980000  24.0  \n",
              "1       17.8  396.90   9.140000  21.6  \n",
              "2       17.8  392.83   4.030000  34.7  \n",
              "3       18.7  394.63   2.940000  33.4  \n",
              "4       18.7  396.90  12.715432  36.2  \n",
              "..       ...     ...        ...   ...  \n",
              "501     21.0  391.99  12.715432  22.4  \n",
              "502     21.0  396.90   9.080000  20.6  \n",
              "503     21.0  396.90   5.640000  23.9  \n",
              "504     21.0  393.45   6.480000  22.0  \n",
              "505     21.0  396.90   7.880000  11.9  \n",
              "\n",
              "[506 rows x 14 columns]"
            ],
            "text/html": [
              "\n",
              "  <div id=\"df-77e0bcf8-611b-4d40-9585-4974d952ff2f\" class=\"colab-df-container\">\n",
              "    <div>\n",
              "<style scoped>\n",
              "    .dataframe tbody tr th:only-of-type {\n",
              "        vertical-align: middle;\n",
              "    }\n",
              "\n",
              "    .dataframe tbody tr th {\n",
              "        vertical-align: top;\n",
              "    }\n",
              "\n",
              "    .dataframe thead th {\n",
              "        text-align: right;\n",
              "    }\n",
              "</style>\n",
              "<table border=\"1\" class=\"dataframe\">\n",
              "  <thead>\n",
              "    <tr style=\"text-align: right;\">\n",
              "      <th></th>\n",
              "      <th>CRIM</th>\n",
              "      <th>ZN</th>\n",
              "      <th>INDUS</th>\n",
              "      <th>CHAS</th>\n",
              "      <th>NOX</th>\n",
              "      <th>RM</th>\n",
              "      <th>AGE</th>\n",
              "      <th>DIS</th>\n",
              "      <th>RAD</th>\n",
              "      <th>TAX</th>\n",
              "      <th>PTRATIO</th>\n",
              "      <th>B</th>\n",
              "      <th>LSTAT</th>\n",
              "      <th>MEDV</th>\n",
              "    </tr>\n",
              "  </thead>\n",
              "  <tbody>\n",
              "    <tr>\n",
              "      <th>0</th>\n",
              "      <td>0.00632</td>\n",
              "      <td>18.0</td>\n",
              "      <td>2.31</td>\n",
              "      <td>0.0</td>\n",
              "      <td>0.538</td>\n",
              "      <td>6.575</td>\n",
              "      <td>65.200000</td>\n",
              "      <td>4.0900</td>\n",
              "      <td>1</td>\n",
              "      <td>296</td>\n",
              "      <td>15.3</td>\n",
              "      <td>396.90</td>\n",
              "      <td>4.980000</td>\n",
              "      <td>24.0</td>\n",
              "    </tr>\n",
              "    <tr>\n",
              "      <th>1</th>\n",
              "      <td>0.02731</td>\n",
              "      <td>0.0</td>\n",
              "      <td>7.07</td>\n",
              "      <td>0.0</td>\n",
              "      <td>0.469</td>\n",
              "      <td>6.421</td>\n",
              "      <td>78.900000</td>\n",
              "      <td>4.9671</td>\n",
              "      <td>2</td>\n",
              "      <td>242</td>\n",
              "      <td>17.8</td>\n",
              "      <td>396.90</td>\n",
              "      <td>9.140000</td>\n",
              "      <td>21.6</td>\n",
              "    </tr>\n",
              "    <tr>\n",
              "      <th>2</th>\n",
              "      <td>0.02729</td>\n",
              "      <td>0.0</td>\n",
              "      <td>7.07</td>\n",
              "      <td>0.0</td>\n",
              "      <td>0.469</td>\n",
              "      <td>7.185</td>\n",
              "      <td>61.100000</td>\n",
              "      <td>4.9671</td>\n",
              "      <td>2</td>\n",
              "      <td>242</td>\n",
              "      <td>17.8</td>\n",
              "      <td>392.83</td>\n",
              "      <td>4.030000</td>\n",
              "      <td>34.7</td>\n",
              "    </tr>\n",
              "    <tr>\n",
              "      <th>3</th>\n",
              "      <td>0.03237</td>\n",
              "      <td>0.0</td>\n",
              "      <td>2.18</td>\n",
              "      <td>0.0</td>\n",
              "      <td>0.458</td>\n",
              "      <td>6.998</td>\n",
              "      <td>45.800000</td>\n",
              "      <td>6.0622</td>\n",
              "      <td>3</td>\n",
              "      <td>222</td>\n",
              "      <td>18.7</td>\n",
              "      <td>394.63</td>\n",
              "      <td>2.940000</td>\n",
              "      <td>33.4</td>\n",
              "    </tr>\n",
              "    <tr>\n",
              "      <th>4</th>\n",
              "      <td>0.06905</td>\n",
              "      <td>0.0</td>\n",
              "      <td>2.18</td>\n",
              "      <td>0.0</td>\n",
              "      <td>0.458</td>\n",
              "      <td>7.147</td>\n",
              "      <td>54.200000</td>\n",
              "      <td>6.0622</td>\n",
              "      <td>3</td>\n",
              "      <td>222</td>\n",
              "      <td>18.7</td>\n",
              "      <td>396.90</td>\n",
              "      <td>12.715432</td>\n",
              "      <td>36.2</td>\n",
              "    </tr>\n",
              "    <tr>\n",
              "      <th>...</th>\n",
              "      <td>...</td>\n",
              "      <td>...</td>\n",
              "      <td>...</td>\n",
              "      <td>...</td>\n",
              "      <td>...</td>\n",
              "      <td>...</td>\n",
              "      <td>...</td>\n",
              "      <td>...</td>\n",
              "      <td>...</td>\n",
              "      <td>...</td>\n",
              "      <td>...</td>\n",
              "      <td>...</td>\n",
              "      <td>...</td>\n",
              "      <td>...</td>\n",
              "    </tr>\n",
              "    <tr>\n",
              "      <th>501</th>\n",
              "      <td>0.06263</td>\n",
              "      <td>0.0</td>\n",
              "      <td>11.93</td>\n",
              "      <td>0.0</td>\n",
              "      <td>0.573</td>\n",
              "      <td>6.593</td>\n",
              "      <td>69.100000</td>\n",
              "      <td>2.4786</td>\n",
              "      <td>1</td>\n",
              "      <td>273</td>\n",
              "      <td>21.0</td>\n",
              "      <td>391.99</td>\n",
              "      <td>12.715432</td>\n",
              "      <td>22.4</td>\n",
              "    </tr>\n",
              "    <tr>\n",
              "      <th>502</th>\n",
              "      <td>0.04527</td>\n",
              "      <td>0.0</td>\n",
              "      <td>11.93</td>\n",
              "      <td>0.0</td>\n",
              "      <td>0.573</td>\n",
              "      <td>6.120</td>\n",
              "      <td>76.700000</td>\n",
              "      <td>2.2875</td>\n",
              "      <td>1</td>\n",
              "      <td>273</td>\n",
              "      <td>21.0</td>\n",
              "      <td>396.90</td>\n",
              "      <td>9.080000</td>\n",
              "      <td>20.6</td>\n",
              "    </tr>\n",
              "    <tr>\n",
              "      <th>503</th>\n",
              "      <td>0.06076</td>\n",
              "      <td>0.0</td>\n",
              "      <td>11.93</td>\n",
              "      <td>0.0</td>\n",
              "      <td>0.573</td>\n",
              "      <td>6.976</td>\n",
              "      <td>91.000000</td>\n",
              "      <td>2.1675</td>\n",
              "      <td>1</td>\n",
              "      <td>273</td>\n",
              "      <td>21.0</td>\n",
              "      <td>396.90</td>\n",
              "      <td>5.640000</td>\n",
              "      <td>23.9</td>\n",
              "    </tr>\n",
              "    <tr>\n",
              "      <th>504</th>\n",
              "      <td>0.10959</td>\n",
              "      <td>0.0</td>\n",
              "      <td>11.93</td>\n",
              "      <td>0.0</td>\n",
              "      <td>0.573</td>\n",
              "      <td>6.794</td>\n",
              "      <td>89.300000</td>\n",
              "      <td>2.3889</td>\n",
              "      <td>1</td>\n",
              "      <td>273</td>\n",
              "      <td>21.0</td>\n",
              "      <td>393.45</td>\n",
              "      <td>6.480000</td>\n",
              "      <td>22.0</td>\n",
              "    </tr>\n",
              "    <tr>\n",
              "      <th>505</th>\n",
              "      <td>0.04741</td>\n",
              "      <td>0.0</td>\n",
              "      <td>11.93</td>\n",
              "      <td>0.0</td>\n",
              "      <td>0.573</td>\n",
              "      <td>6.030</td>\n",
              "      <td>68.518519</td>\n",
              "      <td>2.5050</td>\n",
              "      <td>1</td>\n",
              "      <td>273</td>\n",
              "      <td>21.0</td>\n",
              "      <td>396.90</td>\n",
              "      <td>7.880000</td>\n",
              "      <td>11.9</td>\n",
              "    </tr>\n",
              "  </tbody>\n",
              "</table>\n",
              "<p>506 rows × 14 columns</p>\n",
              "</div>\n",
              "    <div class=\"colab-df-buttons\">\n",
              "\n",
              "  <div class=\"colab-df-container\">\n",
              "    <button class=\"colab-df-convert\" onclick=\"convertToInteractive('df-77e0bcf8-611b-4d40-9585-4974d952ff2f')\"\n",
              "            title=\"Convert this dataframe to an interactive table.\"\n",
              "            style=\"display:none;\">\n",
              "\n",
              "  <svg xmlns=\"http://www.w3.org/2000/svg\" height=\"24px\" viewBox=\"0 -960 960 960\">\n",
              "    <path d=\"M120-120v-720h720v720H120Zm60-500h600v-160H180v160Zm220 220h160v-160H400v160Zm0 220h160v-160H400v160ZM180-400h160v-160H180v160Zm440 0h160v-160H620v160ZM180-180h160v-160H180v160Zm440 0h160v-160H620v160Z\"/>\n",
              "  </svg>\n",
              "    </button>\n",
              "\n",
              "  <style>\n",
              "    .colab-df-container {\n",
              "      display:flex;\n",
              "      gap: 12px;\n",
              "    }\n",
              "\n",
              "    .colab-df-convert {\n",
              "      background-color: #E8F0FE;\n",
              "      border: none;\n",
              "      border-radius: 50%;\n",
              "      cursor: pointer;\n",
              "      display: none;\n",
              "      fill: #1967D2;\n",
              "      height: 32px;\n",
              "      padding: 0 0 0 0;\n",
              "      width: 32px;\n",
              "    }\n",
              "\n",
              "    .colab-df-convert:hover {\n",
              "      background-color: #E2EBFA;\n",
              "      box-shadow: 0px 1px 2px rgba(60, 64, 67, 0.3), 0px 1px 3px 1px rgba(60, 64, 67, 0.15);\n",
              "      fill: #174EA6;\n",
              "    }\n",
              "\n",
              "    .colab-df-buttons div {\n",
              "      margin-bottom: 4px;\n",
              "    }\n",
              "\n",
              "    [theme=dark] .colab-df-convert {\n",
              "      background-color: #3B4455;\n",
              "      fill: #D2E3FC;\n",
              "    }\n",
              "\n",
              "    [theme=dark] .colab-df-convert:hover {\n",
              "      background-color: #434B5C;\n",
              "      box-shadow: 0px 1px 3px 1px rgba(0, 0, 0, 0.15);\n",
              "      filter: drop-shadow(0px 1px 2px rgba(0, 0, 0, 0.3));\n",
              "      fill: #FFFFFF;\n",
              "    }\n",
              "  </style>\n",
              "\n",
              "    <script>\n",
              "      const buttonEl =\n",
              "        document.querySelector('#df-77e0bcf8-611b-4d40-9585-4974d952ff2f button.colab-df-convert');\n",
              "      buttonEl.style.display =\n",
              "        google.colab.kernel.accessAllowed ? 'block' : 'none';\n",
              "\n",
              "      async function convertToInteractive(key) {\n",
              "        const element = document.querySelector('#df-77e0bcf8-611b-4d40-9585-4974d952ff2f');\n",
              "        const dataTable =\n",
              "          await google.colab.kernel.invokeFunction('convertToInteractive',\n",
              "                                                    [key], {});\n",
              "        if (!dataTable) return;\n",
              "\n",
              "        const docLinkHtml = 'Like what you see? Visit the ' +\n",
              "          '<a target=\"_blank\" href=https://colab.research.google.com/notebooks/data_table.ipynb>data table notebook</a>'\n",
              "          + ' to learn more about interactive tables.';\n",
              "        element.innerHTML = '';\n",
              "        dataTable['output_type'] = 'display_data';\n",
              "        await google.colab.output.renderOutput(dataTable, element);\n",
              "        const docLink = document.createElement('div');\n",
              "        docLink.innerHTML = docLinkHtml;\n",
              "        element.appendChild(docLink);\n",
              "      }\n",
              "    </script>\n",
              "  </div>\n",
              "\n",
              "\n",
              "<div id=\"df-35d79c39-df3c-404b-b8f2-20d111f9813f\">\n",
              "  <button class=\"colab-df-quickchart\" onclick=\"quickchart('df-35d79c39-df3c-404b-b8f2-20d111f9813f')\"\n",
              "            title=\"Suggest charts\"\n",
              "            style=\"display:none;\">\n",
              "\n",
              "<svg xmlns=\"http://www.w3.org/2000/svg\" height=\"24px\"viewBox=\"0 0 24 24\"\n",
              "     width=\"24px\">\n",
              "    <g>\n",
              "        <path d=\"M19 3H5c-1.1 0-2 .9-2 2v14c0 1.1.9 2 2 2h14c1.1 0 2-.9 2-2V5c0-1.1-.9-2-2-2zM9 17H7v-7h2v7zm4 0h-2V7h2v10zm4 0h-2v-4h2v4z\"/>\n",
              "    </g>\n",
              "</svg>\n",
              "  </button>\n",
              "\n",
              "<style>\n",
              "  .colab-df-quickchart {\n",
              "      --bg-color: #E8F0FE;\n",
              "      --fill-color: #1967D2;\n",
              "      --hover-bg-color: #E2EBFA;\n",
              "      --hover-fill-color: #174EA6;\n",
              "      --disabled-fill-color: #AAA;\n",
              "      --disabled-bg-color: #DDD;\n",
              "  }\n",
              "\n",
              "  [theme=dark] .colab-df-quickchart {\n",
              "      --bg-color: #3B4455;\n",
              "      --fill-color: #D2E3FC;\n",
              "      --hover-bg-color: #434B5C;\n",
              "      --hover-fill-color: #FFFFFF;\n",
              "      --disabled-bg-color: #3B4455;\n",
              "      --disabled-fill-color: #666;\n",
              "  }\n",
              "\n",
              "  .colab-df-quickchart {\n",
              "    background-color: var(--bg-color);\n",
              "    border: none;\n",
              "    border-radius: 50%;\n",
              "    cursor: pointer;\n",
              "    display: none;\n",
              "    fill: var(--fill-color);\n",
              "    height: 32px;\n",
              "    padding: 0;\n",
              "    width: 32px;\n",
              "  }\n",
              "\n",
              "  .colab-df-quickchart:hover {\n",
              "    background-color: var(--hover-bg-color);\n",
              "    box-shadow: 0 1px 2px rgba(60, 64, 67, 0.3), 0 1px 3px 1px rgba(60, 64, 67, 0.15);\n",
              "    fill: var(--button-hover-fill-color);\n",
              "  }\n",
              "\n",
              "  .colab-df-quickchart-complete:disabled,\n",
              "  .colab-df-quickchart-complete:disabled:hover {\n",
              "    background-color: var(--disabled-bg-color);\n",
              "    fill: var(--disabled-fill-color);\n",
              "    box-shadow: none;\n",
              "  }\n",
              "\n",
              "  .colab-df-spinner {\n",
              "    border: 2px solid var(--fill-color);\n",
              "    border-color: transparent;\n",
              "    border-bottom-color: var(--fill-color);\n",
              "    animation:\n",
              "      spin 1s steps(1) infinite;\n",
              "  }\n",
              "\n",
              "  @keyframes spin {\n",
              "    0% {\n",
              "      border-color: transparent;\n",
              "      border-bottom-color: var(--fill-color);\n",
              "      border-left-color: var(--fill-color);\n",
              "    }\n",
              "    20% {\n",
              "      border-color: transparent;\n",
              "      border-left-color: var(--fill-color);\n",
              "      border-top-color: var(--fill-color);\n",
              "    }\n",
              "    30% {\n",
              "      border-color: transparent;\n",
              "      border-left-color: var(--fill-color);\n",
              "      border-top-color: var(--fill-color);\n",
              "      border-right-color: var(--fill-color);\n",
              "    }\n",
              "    40% {\n",
              "      border-color: transparent;\n",
              "      border-right-color: var(--fill-color);\n",
              "      border-top-color: var(--fill-color);\n",
              "    }\n",
              "    60% {\n",
              "      border-color: transparent;\n",
              "      border-right-color: var(--fill-color);\n",
              "    }\n",
              "    80% {\n",
              "      border-color: transparent;\n",
              "      border-right-color: var(--fill-color);\n",
              "      border-bottom-color: var(--fill-color);\n",
              "    }\n",
              "    90% {\n",
              "      border-color: transparent;\n",
              "      border-bottom-color: var(--fill-color);\n",
              "    }\n",
              "  }\n",
              "</style>\n",
              "\n",
              "  <script>\n",
              "    async function quickchart(key) {\n",
              "      const quickchartButtonEl =\n",
              "        document.querySelector('#' + key + ' button');\n",
              "      quickchartButtonEl.disabled = true;  // To prevent multiple clicks.\n",
              "      quickchartButtonEl.classList.add('colab-df-spinner');\n",
              "      try {\n",
              "        const charts = await google.colab.kernel.invokeFunction(\n",
              "            'suggestCharts', [key], {});\n",
              "      } catch (error) {\n",
              "        console.error('Error during call to suggestCharts:', error);\n",
              "      }\n",
              "      quickchartButtonEl.classList.remove('colab-df-spinner');\n",
              "      quickchartButtonEl.classList.add('colab-df-quickchart-complete');\n",
              "    }\n",
              "    (() => {\n",
              "      let quickchartButtonEl =\n",
              "        document.querySelector('#df-35d79c39-df3c-404b-b8f2-20d111f9813f button');\n",
              "      quickchartButtonEl.style.display =\n",
              "        google.colab.kernel.accessAllowed ? 'block' : 'none';\n",
              "    })();\n",
              "  </script>\n",
              "</div>\n",
              "    </div>\n",
              "  </div>\n"
            ]
          },
          "metadata": {},
          "execution_count": 54
        }
      ],
      "source": [
        "X_data_m = pd.read_csv('/content/drive/MyDrive/SMAI_Google colab/HousingData.csv')\n",
        "print(\"The shape of the data:\",X_data_m.shape)\n",
        "print(X_data_m.columns)\n",
        "#Nan value replaced by mean of the feature\n",
        "for i in X_data_m.columns:\n",
        "    X_data_m[i].fillna(X_data_m[i].mean(), inplace=True)\n",
        "X_data_m"
      ]
    },
    {
      "cell_type": "code",
      "execution_count": 44,
      "metadata": {
        "colab": {
          "base_uri": "https://localhost:8080/",
          "height": 490
        },
        "id": "vx60Zt5AS_y-",
        "outputId": "c61e1110-b7c5-48f8-9acd-d2afc3d73d11"
      },
      "outputs": [
        {
          "output_type": "execute_result",
          "data": {
            "text/plain": [
              "Text(0, 0.5, 'Count')"
            ]
          },
          "metadata": {},
          "execution_count": 44
        },
        {
          "output_type": "display_data",
          "data": {
            "text/plain": [
              "<Figure size 640x480 with 1 Axes>"
            ],
            "image/png": "[encoded data removed]"
          },
          "metadata": {}
        }
      ],
      "source": [
        "X_data_m[\"MEDV\"].sort_index().plot(kind='hist')\n",
        "plt.title('Distribution of Price')\n",
        "plt.xlabel('Price')\n",
        "plt.ylabel('Count')"
      ]
    },
    {
      "cell_type": "code",
      "execution_count": 55,
      "metadata": {
        "colab": {
          "base_uri": "https://localhost:8080/"
        },
        "id": "xHmxr1JLS_y-",
        "outputId": "43d91b37-e6fc-41eb-8372-f0e83e0a9a96"
      },
      "outputs": [
        {
          "output_type": "stream",
          "name": "stdout",
          "text": [
            "Shape of the train, test and validaton data: (354, 13) (76, 13) (76, 13)\n",
            "Shape of the train, test and validaton label: (354,) (76,) (76,)\n"
          ]
        }
      ],
      "source": [
        "Y_data_h = X_data_m['MEDV']\n",
        "X_data_h_n = X_data_m.drop('MEDV',axis=1)\n",
        "\n",
        "# X_data_h_n = preprocessing.normalize(X_data_h_n,axis=0)\n",
        "# std = preprocessing.StandardScaler()\n",
        "# X_data_w_n = std.fit_transform(X=X_data_h_n)\n",
        "\n",
        "X_train_t, X_test_h, Y_train_t, Y_test_h = train_test_split(X_data_h_n,Y_data_h,test_size=0.15,random_state=1)\n",
        "X_train_h, X_valid_h,Y_train_h, Y_valid_h = train_test_split(X_train_t,Y_train_t,test_size=0.176,random_state=1)\n",
        "\n",
        "std = preprocessing.StandardScaler()\n",
        "X_train_h = std.fit_transform(X=X_train_h)\n",
        "X_test_h = std.fit_transform(X=X_test_h)\n",
        "X_valid_h = std.fit_transform(X=X_valid_h)\n",
        "print(\"Shape of the train, test and validaton data:\",X_train_h.shape,X_test_h.shape,X_valid_h.shape)\n",
        "print(\"Shape of the train, test and validaton label:\",Y_train_h.shape,Y_test_h.shape,Y_valid_h.shape)"
      ]
    },
    {
      "cell_type": "markdown",
      "source": [
        "## 4.1 Random Forest Regresor Tranning"
      ],
      "metadata": {
        "id": "Qus-Gsz0KadL"
      }
    },
    {
      "cell_type": "code",
      "source": [
        "class random_forest_Regresor:\n",
        "  def __init__(self, n_trees=10, criterion = 'gini',max_depth=10, max_features = 10, min_samples_split=2,random_state=None):\n",
        "    self.n_trees = n_trees\n",
        "    self.criterion = criterion\n",
        "    self.max_depth=max_depth\n",
        "    self.max_features = max_features\n",
        "    self.min_samples_split=min_samples_split\n",
        "    self.random_state = random_state\n",
        "    self.trees = []\n",
        "\n",
        "  def fit(self,X,y):\n",
        "    self.trees = []\n",
        "    for i in range(self.n_trees):\n",
        "        tree_ = tree.DecisionTreeRegressor(criterion=self.criterion, max_depth=self.max_depth,\n",
        "                                           max_features=self.max_features, min_samples_split=self.min_samples_split,\n",
        "                                           random_state=self.random_state)\n",
        "\n",
        "        indices = np.random.choice(len(X), size=len(X), replace=True)\n",
        "        tree_.fit(X[indices], y[indices])\n",
        "        self.trees.append(tree_)\n",
        "\n",
        "\n",
        "  def predict(self,X_test):\n",
        "    test_preds = np.empty((0,1),float)\n",
        "    pred_is_empty = True\n",
        "    for tree in self.trees:\n",
        "      if pred_is_empty == True:\n",
        "        test_preds = np.append(test_preds,tree.predict(X_test),axis=None)\n",
        "        pred_is_empty = False\n",
        "        test_preds = np.array(test_preds).reshape(len(test_preds),-1)\n",
        "      else:\n",
        "        test_preds = np.append(test_preds,np.array(tree.predict(X_test)).reshape(len(X_test),-1),axis=1)\n",
        "    test_preds_sum = np.mean(test_preds,axis=1)\n",
        "    return np.array(test_preds_sum).reshape(len(test_preds_sum),-1)\n",
        "\n"
      ],
      "metadata": {
        "id": "fQacUDe8Kfdk"
      },
      "execution_count": 56,
      "outputs": []
    },
    {
      "cell_type": "code",
      "source": [
        "random_state = 12\n",
        "h_param = {\n",
        "        'n_trees':[7,9,11,13,15,17,19],\n",
        "        'criterion' : ['squared_error', 'absolute_error'],\n",
        "        'Max_depth' : [3,5,10,20,30],\n",
        "        'Max_features' : [3,5,7,9,11]\n",
        "        }\n",
        "hyper_param = list(product(*h_param.values()))\n",
        "MSE_n = []\n",
        "for i in hyper_param:\n",
        "  r_f = random_forest_Regresor(n_trees=i[0], criterion = i[1] ,max_depth=i[2], max_features = i[3], random_state=random_state)\n",
        "  r_f.fit(X_train_h,np.array(Y_train_h).reshape(len(Y_train_h),-1))\n",
        "  predicted_value = r_f.predict(X_valid_h)\n",
        "  MSE = mean_squared_error(np.array(Y_valid_h).reshape(len(Y_valid_h),-1), predicted_value)\n",
        "  MSE_n.append(MSE)\n",
        "min_MSE_index = np.argmin(MSE_n)\n",
        "print(f\"The hyperparameters index for the minimum MSE = {min_MSE_index},\\nThe hyperparameters for the minimum MSE = {hyper_param[min_MSE_index]},\\nThe minimum MSE = {MSE_n[min_MSE_index]}\")\n"
      ],
      "metadata": {
        "colab": {
          "base_uri": "https://localhost:8080/"
        },
        "id": "5ozi_WGDLRAA",
        "outputId": "6fe3b9d2-0fae-4c27-e3a0-89439cf3c401"
      },
      "execution_count": 57,
      "outputs": [
        {
          "output_type": "stream",
          "name": "stdout",
          "text": [
            "The hyperparameters index for the minimum MSE = 262,\n",
            "The hyperparameters for the minimum MSE = (17, 'squared_error', 10, 7),\n",
            "The minimum MSE = 9.341957788474005\n"
          ]
        }
      ]
    },
    {
      "cell_type": "code",
      "source": [
        "plt.plot(np.array(MSE_n))\n",
        "plt.title(\"Hyper parameter vs MSE\")\n",
        "plt.xlabel(\"Hyper parameters\")\n",
        "plt.ylabel(\"MSE\")"
      ],
      "metadata": {
        "colab": {
          "base_uri": "https://localhost:8080/",
          "height": 490
        },
        "id": "U8xA-hFVLVlD",
        "outputId": "3c323943-bc61-41fc-c8d7-f9700ecf40ee"
      },
      "execution_count": 58,
      "outputs": [
        {
          "output_type": "execute_result",
          "data": {
            "text/plain": [
              "Text(0, 0.5, 'MSE')"
            ]
          },
          "metadata": {},
          "execution_count": 58
        },
        {
          "output_type": "display_data",
          "data": {
            "text/plain": [
              "<Figure size 640x480 with 1 Axes>"
            ],
            "image/png": "[encoded data removed]"
          },
          "metadata": {}
        }
      ]
    },
    {
      "cell_type": "code",
      "source": [
        "r_f = random_forest_Regresor(n_trees=9, criterion = 'absolute_error' ,max_depth=30, max_features = 5, random_state=12)\n",
        "start = time.time()\n",
        "r_f.fit(X_train_h,np.array(Y_train_h).reshape(len(Y_train_h),-1))\n",
        "end = time.time()\n",
        "predicted_value = r_f.predict(X_valid_h)\n",
        "MSE_r = mean_squared_error(np.array(Y_valid_h).reshape(len(Y_valid_h),-1), predicted_value)\n",
        "time_r = end-start\n",
        "print(\"Time:\",time_r, \"MSE:\",MSE_r)\n"
      ],
      "metadata": {
        "colab": {
          "base_uri": "https://localhost:8080/"
        },
        "id": "Vy1U4EQv12fm",
        "outputId": "cd9c9d40-5ea9-42f5-e73e-d71d6bdf3fed"
      },
      "execution_count": 118,
      "outputs": [
        {
          "output_type": "stream",
          "name": "stdout",
          "text": [
            "Time: 0.1259617805480957 MSE: 18.826255685510063\n"
          ]
        }
      ]
    },
    {
      "cell_type": "code",
      "source": [
        "\n",
        "plt.scatter(np.array(Y_valid_h).reshape(len(Y_valid_h),), predicted_value)\n",
        "plt.xlabel(\"True Values\")\n",
        "plt.ylabel(\"Predictions\")\n",
        "plt.title(\"Scatter Plot of True vs Predicted Values of Random forest Regressor\")\n",
        "plt.show()"
      ],
      "metadata": {
        "colab": {
          "base_uri": "https://localhost:8080/",
          "height": 472
        },
        "id": "bVSuKEA5P4xT",
        "outputId": "14c71d5c-4f51-4ac7-c939-e5046a060b11"
      },
      "execution_count": 119,
      "outputs": [
        {
          "output_type": "display_data",
          "data": {
            "text/plain": [
              "<Figure size 640x480 with 1 Axes>"
            ],
            "image/png": "[encoded data removed]"
          },
          "metadata": {}
        }
      ]
    },
    {
      "cell_type": "markdown",
      "source": [
        "## 4.2 Adaboost Regressor"
      ],
      "metadata": {
        "id": "dgRnRlprM4C-"
      }
    },
    {
      "cell_type": "code",
      "source": [
        "#  Decision Trees + AdaBoost\n",
        "# This class is use for regression\n",
        "class adaboost_DT_Regressor:\n",
        "  def __init__(self,n_models=10,random_state = None):\n",
        "    self.alphas = []\n",
        "    self.models = []\n",
        "    self.errors = []\n",
        "    self.n_models = n_models\n",
        "    self.random_state = random_state\n",
        "\n",
        "  def fit(self,X,y):\n",
        "    # np.random.seed(self.random_state)\n",
        "    for m in range(self.n_models):\n",
        "        if m==0:\n",
        "          weights = np.ones(len(y))/len(y)\n",
        "        else:\n",
        "          weights = weights * np.exp(alpha_m * (np.not_equal(y, y_pred)).astype(int))\n",
        "        # print(\"weights\",weights.shape)\n",
        "        model = tree.DecisionTreeRegressor(max_depth = 15, random_state= self.random_state)\n",
        "        model.fit(X, y, sample_weight = weights)\n",
        "        y_pred = model.predict(X)\n",
        "\n",
        "        self.models.append(model)\n",
        "        #error\n",
        "        error_m = (sum(weights * (np.not_equal(y, y_pred)).astype(int)))/sum(weights)\n",
        "        # print(\"error_m\",error_m)\n",
        "        self.errors.append(error_m)\n",
        "        #alpha\n",
        "        alpha_m = np.log((1 - error_m) / max(0.000000001,error_m))\n",
        "        self.alphas.append(alpha_m)\n",
        "\n",
        "  def predict(self, X_test):\n",
        "    preds = np.empty((0,1),float)\n",
        "    is_preds_empty = True\n",
        "    for i, model in enumerate(self.models):\n",
        "      pred =np.array(model.predict(X_test)*self.alphas[i]).reshape(len(X_test),-1)\n",
        "      if is_preds_empty == True:\n",
        "        preds = np.append(preds,pred, axis=None)\n",
        "        is_preds_empty = False\n",
        "        preds = np.array(preds).reshape(len(preds),-1)\n",
        "      else:\n",
        "        preds = np.append(preds, pred, axis = 1)\n",
        "    preds_mean = np.mean(preds,axis=1)\n",
        "    return np.array(preds_mean).reshape(len(preds_mean),-1)"
      ],
      "metadata": {
        "id": "wTupdfF0NeGS"
      },
      "execution_count": 115,
      "outputs": []
    },
    {
      "cell_type": "code",
      "source": [
        "\n",
        "#train the model and find the accuracy\n",
        "random_state=15\n",
        "n_models = 5\n",
        "adab = adaboost_DT_Regressor(n_models=n_models,random_state=random_state)\n",
        "start = time.time()\n",
        "adab.fit(X_train_h, Y_train_h)\n",
        "end = time.time()\n",
        "predicted_value = adab.predict(X_valid_h)\n",
        "MSE_a = mean_squared_error(np.array(Y_valid_h).reshape(len(Y_valid_h),-1),predicted_value)\n",
        "time_a = end-start\n",
        "print(\"Time:\",time_a, \"MSE:\",MSE_a)"
      ],
      "metadata": {
        "colab": {
          "base_uri": "https://localhost:8080/"
        },
        "id": "NgnnufYjOu-J",
        "outputId": "e0169c35-9f11-476e-ec4b-997aa14c7952"
      },
      "execution_count": 116,
      "outputs": [
        {
          "output_type": "stream",
          "name": "stdout",
          "text": [
            "Time: 0.04525184631347656 MSE: 35.137988918131036\n"
          ]
        }
      ]
    },
    {
      "cell_type": "code",
      "source": [
        "plt.scatter(np.array(Y_valid_h).reshape(len(Y_valid_h),), predicted_value)\n",
        "plt.xlabel(\"True Values\")\n",
        "plt.ylabel(\"Predictions\")\n",
        "plt.title(\"Scatter Plot of True vs Predicted Values of Ada Boost Regressor\")\n",
        "plt.show()"
      ],
      "metadata": {
        "colab": {
          "base_uri": "https://localhost:8080/",
          "height": 472
        },
        "id": "UZkRRLAHQ_BV",
        "outputId": "2e2a80e5-3b3b-4cc0-e9a8-00d461464881"
      },
      "execution_count": 117,
      "outputs": [
        {
          "output_type": "display_data",
          "data": {
            "text/plain": [
              "<Figure size 640x480 with 1 Axes>"
            ],
            "image/png": "[encoded data removed]"
          },
          "metadata": {}
        }
      ]
    },
    {
      "cell_type": "markdown",
      "source": [
        "## Gradient Boosted Decision Trees Regressor"
      ],
      "metadata": {
        "id": "IZnh-8hTchEO"
      }
    },
    {
      "cell_type": "code",
      "source": [
        "class GradientBoostTreeRegressor:\n",
        "    def __init__(self, n_estimators=100, learning_rate=0.1):\n",
        "        self.n_estimators = n_estimators\n",
        "        self.learning_rate = learning_rate\n",
        "        self.models = []\n",
        "        self.estimators = []\n",
        "        self.e0 = 0\n",
        "\n",
        "    def fit(self, X, y):\n",
        "        self.e0 = np.mean(y)\n",
        "        predictions = self.e0*np.ones(y.shape[0])\n",
        "        self.models.append(predictions)\n",
        "\n",
        "        for _ in range(self.n_estimators):\n",
        "            residuals = y - self.models[-1]\n",
        "            tree_ = tree.DecisionTreeRegressor(criterion='absolute_error', max_depth=5,min_samples_leaf=2,min_samples_split=2)\n",
        "            tree_.fit(X, residuals)\n",
        "            self.estimators.append(tree_)\n",
        "            self.models.append(self.models[-1] + self.learning_rate * tree_.predict(X))\n",
        "\n",
        "    def predict(self, X):\n",
        "      d = []\n",
        "      d.append(self.e0*np.ones(len(X))\n",
        ")\n",
        "      for model in self.estimators:\n",
        "        d.append(self.learning_rate * model.predict(X))\n",
        "      c = sum(d)\n",
        "      return c\n",
        "rgr = GradientBoostTreeRegressor(n_estimators=10)\n",
        "start = time.time()\n",
        "rgr.fit(X_train_h,Y_train_h)\n",
        "end = time.time()\n",
        "predicted_value = rgr.predict(X_valid_h)\n",
        "MSE_g = mean_squared_error(np.array(Y_valid_h).reshape(len(Y_valid_h),-1),predicted_value)\n",
        "time_g= end-start\n",
        "print(\"Time:\",time_g, \"MSE:\",MSE_g)"
      ],
      "metadata": {
        "colab": {
          "base_uri": "https://localhost:8080/"
        },
        "id": "8p8XFcGLJWhE",
        "outputId": "c5207432-0071-4d10-f73b-049952558281"
      },
      "execution_count": 124,
      "outputs": [
        {
          "output_type": "stream",
          "name": "stdout",
          "text": [
            "Time: 0.14199018478393555 MSE: 35.28094283290555\n"
          ]
        }
      ]
    },
    {
      "cell_type": "code",
      "source": [
        "plt.scatter(np.array(Y_valid_h).reshape(len(Y_valid_h),), predicted_value)\n",
        "plt.xlabel(\"True Values\")\n",
        "plt.ylabel(\"Predictions\")\n",
        "plt.title(\"Scatter Plot of True vs Predicted Values of Gradient Boost Regressor\")\n",
        "plt.show()"
      ],
      "metadata": {
        "colab": {
          "base_uri": "https://localhost:8080/",
          "height": 472
        },
        "id": "t-UTHSrBRdkm",
        "outputId": "02082a3c-860b-4d60-94cc-9beea9bfeb1c"
      },
      "execution_count": 125,
      "outputs": [
        {
          "output_type": "display_data",
          "data": {
            "text/plain": [
              "<Figure size 640x480 with 1 Axes>"
            ],
            "image/png": "[encoded data removed]"
          },
          "metadata": {}
        }
      ]
    },
    {
      "cell_type": "code",
      "source": [
        "plt.figure(figsize=(10, 6))\n",
        "plt.subplot(1, 2, 1)\n",
        "plt.bar(['Random forest','Adaboost','Gradient boost'],[MSE_r,MSE_a,MSE_g])\n",
        "plt.title('MSE comparision ')\n",
        "plt.xlabel('Models')\n",
        "plt.ylabel('MSE')\n",
        "\n",
        "plt.subplot(1, 2, 2)\n",
        "plt.bar(['Random forest','Adaboost','Gradient boost'],[time_r, time_a, time_g], color='green')\n",
        "plt.title('Train time comparision')\n",
        "plt.xlabel('Models')\n",
        "plt.ylabel('time')\n",
        "plt.show()"
      ],
      "metadata": {
        "colab": {
          "base_uri": "https://localhost:8080/",
          "height": 564
        },
        "id": "NN3x381V1p_A",
        "outputId": "7a9a333b-fa3f-4b6e-b281-e379a067962f"
      },
      "execution_count": 126,
      "outputs": [
        {
          "output_type": "display_data",
          "data": {
            "text/plain": [
              "<Figure size 1000x600 with 2 Axes>"
            ],
            "image/png": "[encoded data removed]"
          },
          "metadata": {}
        }
      ]
    },
    {
      "cell_type": "markdown",
      "source": [
        "3. Provide an analysis of the mistakes of these models and try to explore and\n",
        "explain the feature similarity of the common mistakes"
      ],
      "metadata": {
        "id": "2AvZkh5q4ggo"
      }
    },
    {
      "cell_type": "markdown",
      "source": [],
      "metadata": {
        "id": "GdhVW6h34iSu"
      }
    },
    {
      "cell_type": "code",
      "source": [],
      "metadata": {
        "id": "9z0WjwjLLTZl"
      },
      "execution_count": null,
      "outputs": []
    }
  ]
}